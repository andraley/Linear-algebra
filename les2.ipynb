{
  "nbformat": 4,
  "nbformat_minor": 0,
  "metadata": {
    "colab": {
      "name": "Untitled19.ipynb",
      "provenance": [],
      "collapsed_sections": []
    },
    "kernelspec": {
      "name": "python3",
      "display_name": "Python 3"
    },
    "language_info": {
      "name": "python"
    }
  },
  "cells": [
    {
      "cell_type": "code",
      "metadata": {
        "id": "GmTYMxfq38mq"
      },
      "source": [
        "import numpy as np\n",
        "import scipy.linalg"
      ],
      "execution_count": 1,
      "outputs": []
    },
    {
      "cell_type": "markdown",
      "metadata": {
        "id": "qZQ6EuF43-Ti"
      },
      "source": [
        "## Урок 2. Матрицы и матричные операции"
      ]
    },
    {
      "cell_type": "markdown",
      "metadata": {
        "id": "eGMy3pVp4OxZ"
      },
      "source": [
        "### Матрицы и матричные операции. Часть 1"
      ]
    },
    {
      "cell_type": "markdown",
      "metadata": {
        "id": "kQz7Qz6Y4RxX"
      },
      "source": [
        "#### __1.__ Установить, какие произведения матриц $AB$ и $BA$ определены, и найти размерности полученных матриц:\n",
        "\n",
        "   а) $A$ — матрица $4\\times 2$, $B$ — матрица $4\\times 2$;\n",
        "    \n",
        "   б) $A$ — матрица $2\\times 5$, $B$ — матрица $5\\times 3$;\n",
        "    \n",
        "   в) $A$ — матрица $8\\times 3$, $B$ — матрица $3\\times 8$;\n",
        "    \n",
        "   г) $A$ — квадратная матрица $4\\times 4$, $B$ — квадратная матрица $4\\times 4$."
      ]
    },
    {
      "cell_type": "markdown",
      "metadata": {
        "id": "RTriDCEM4gZP"
      },
      "source": [
        "a) A — матрица 4×2, B — матрица 4×2. Произведения матриц AB и BA не существуют, так как число строк в матрицах не совпадает с числом столбцов\n",
        "б) A — матрица 2×5, B — матрица 5×3. Матрица полученая при произведении АВ будет иметь размерность 2х3. Произведения BA не существует.\n",
        "в) A — матрица 8×3, B — матрица 3×8. Матрица полученая при произведении АВ будет иметь размерность 8х8. Матрица получениая при произведении ВА будет иметь размерность 3х3. \n",
        "г) A — квадратная матрица 4×4, B — квадратная матрица 4×4. Матрици полученые при произведения АВ и ВА будут иметь размерность 4х4."
      ]
    },
    {
      "cell_type": "markdown",
      "metadata": {
        "id": "Kl4uDqhW7ysE"
      },
      "source": [
        "#### __2.__ Найти сумму и произведение матриц $A=\\begin{pmatrix}\n",
        "1 & -2\\\\ \n",
        "3 & 0\n",
        "\\end{pmatrix}$ и $B=\\begin{pmatrix}\n",
        "4 & -1\\\\ \n",
        "0 & 5\n",
        "\\end{pmatrix}.$"
      ]
    },
    {
      "cell_type": "markdown",
      "metadata": {
        "id": "P36bOl2e8lBH"
      },
      "source": [
        "$A+B=\\begin{pmatrix}\n",
        "1+4 & -2-1\\\\ \n",
        "3+0 & 0+5\n",
        "\\end{pmatrix}=\\begin{pmatrix}\n",
        "5 & -3\\\\ \n",
        "3 & 5\n",
        "\\end{pmatrix}.$ <br><br>\n",
        "$A*B=\\begin{pmatrix}\n",
        "1*4+(-2)*0 & 1*(-1)+(-2)*5\\\\ \n",
        "3*4+0*0 & 3*(-1)+0*5 \n",
        "\\end{pmatrix}=\\begin{pmatrix}\n",
        "4 & -11\\\\ \n",
        "12 & -3\n",
        "\\end{pmatrix}.$"
      ]
    },
    {
      "cell_type": "code",
      "metadata": {
        "colab": {
          "base_uri": "https://localhost:8080/"
        },
        "id": "TS8EIjjx4Hhd",
        "outputId": "0af85507-cdae-4e84-e6e8-d82b742b8e60"
      },
      "source": [
        "A = np.array([[1, -2], [3, 0]])\n",
        "B = np.array([[4, -1], [0, 5]])\n",
        "A+B"
      ],
      "execution_count": 2,
      "outputs": [
        {
          "output_type": "execute_result",
          "data": {
            "text/plain": [
              "array([[ 5, -3],\n",
              "       [ 3,  5]])"
            ]
          },
          "metadata": {
            "tags": []
          },
          "execution_count": 2
        }
      ]
    },
    {
      "cell_type": "code",
      "metadata": {
        "colab": {
          "base_uri": "https://localhost:8080/"
        },
        "id": "e3lpgJfwDF8h",
        "outputId": "32d95edb-215b-4560-f181-547e677f21f1"
      },
      "source": [
        "A@B"
      ],
      "execution_count": 3,
      "outputs": [
        {
          "output_type": "execute_result",
          "data": {
            "text/plain": [
              "array([[  4, -11],\n",
              "       [ 12,  -3]])"
            ]
          },
          "metadata": {
            "tags": []
          },
          "execution_count": 3
        }
      ]
    },
    {
      "cell_type": "markdown",
      "metadata": {
        "id": "TgicA3lNFY-T"
      },
      "source": [
        "#### _3.__ Из закономерностей сложения и умножения матриц на число можно сделать вывод, что матрицы одного размера образуют линейное пространство. Вычислить линейную комбинацию $3A-2B+4C$ для матриц $A=\\begin{pmatrix}\n",
        "1 & 7\\\\ \n",
        "3 & -6\n",
        "\\end{pmatrix}$, $B=\\begin{pmatrix}\n",
        "0 & 5\\\\ \n",
        "2 & -1\n",
        "\\end{pmatrix}$, $C=\\begin{pmatrix}\n",
        "2 & -4\\\\ \n",
        "1 & 1\n",
        "\\end{pmatrix}.$"
      ]
    },
    {
      "cell_type": "markdown",
      "metadata": {
        "id": "LYGiJFDzFsyR"
      },
      "source": [
        "$3A=\\begin{pmatrix}\n",
        "3 & 21\\\\ \n",
        "9 & -18\n",
        "\\end{pmatrix}$ <br>\n",
        " $2B=\\begin{pmatrix}\n",
        "0 & 10\\\\ \n",
        "4 & -2\n",
        "\\end{pmatrix}$ <br> $4C=\\begin{pmatrix}\n",
        "8 & -16\\\\ \n",
        "4 & 4\n",
        "\\end{pmatrix}$ <br>\n",
        "$3A-2B+4C=\\begin{pmatrix}\n",
        "3-0+8 & 21-10-16\\\\ \n",
        "9-4+4 & -18+2+4\n",
        "\\end{pmatrix} = \\begin{pmatrix}\n",
        "11 & -5\\\\ \n",
        "9 & -12\n",
        "\\end{pmatrix}$ \n"
      ]
    },
    {
      "cell_type": "code",
      "metadata": {
        "colab": {
          "base_uri": "https://localhost:8080/"
        },
        "id": "tbLCA7GNDMoi",
        "outputId": "35b18091-f164-40a0-962c-22b5c586f968"
      },
      "source": [
        "A = np.array([[1, 7], [3, -6]])\n",
        "B = np.array([[0, 5], [2, -1]])\n",
        "C = np.array([[2, -4], [1, 1]])\n",
        "3*A-2*B+4*C"
      ],
      "execution_count": 4,
      "outputs": [
        {
          "output_type": "execute_result",
          "data": {
            "text/plain": [
              "array([[ 11,  -5],\n",
              "       [  9, -12]])"
            ]
          },
          "metadata": {
            "tags": []
          },
          "execution_count": 4
        }
      ]
    },
    {
      "cell_type": "markdown",
      "metadata": {
        "id": "oj1WD6h3KcPo"
      },
      "source": [
        "##### __4.__ Дана матрица $A=\\begin{pmatrix}\n",
        "4 & 1\\\\ \n",
        "5 & -2\\\\ \n",
        "2 & 3\n",
        "\\end{pmatrix}$.\n",
        "Вычислить $AA^{T}$ и $A^{T}A$."
      ]
    },
    {
      "cell_type": "markdown",
      "metadata": {
        "id": "MzgIKHWpLTFE"
      },
      "source": [
        "$A^{T}=\\begin{pmatrix}\n",
        "4 & 5 & 2\\\\ \n",
        "1 & -2 & 3\n",
        "\\end{pmatrix}$ <br><br>\n",
        "$AA^{T}=\\begin{pmatrix}\n",
        "4*4+1*1 & 5*4+(-2)*1 & 2*4+3*1\\\\ \n",
        "5*4+(-2)*1 & 5*5+(-2)*(-2) & 5*2+(-2)*3\\\\ \n",
        "2*4+3*1 & 2*5+3*(-2) & 2*2+3*3\n",
        "\\end{pmatrix} = \\begin{pmatrix}\n",
        "17 & 18 & 11\\\\ \n",
        "18 & 29 & 4\\\\ \n",
        "11 & 4 & 13\n",
        "\\end{pmatrix}$. <br><br>\n",
        "\n",
        "$A^{T}A=\\begin{pmatrix}\n",
        "4*4+5*5+2*2 & 4*1+5*(-2)+2*3\\\\ \n",
        "1*4+(-2)*5+3*2 & 1*1+(-2)*(-2)+3*3)\n",
        "\\end{pmatrix} = \\begin{pmatrix}\n",
        "45 & 0 \\\\ \n",
        "0 & 14 \\\\\n",
        "\\end{pmatrix}$."
      ]
    },
    {
      "cell_type": "code",
      "metadata": {
        "colab": {
          "base_uri": "https://localhost:8080/"
        },
        "id": "COy1ZrR0KKrQ",
        "outputId": "a46d120c-2db2-4543-b8ca-1e62030da2b5"
      },
      "source": [
        "A = np.array([[4, 1], [5, -2], [2, 3]])\n",
        "AT = A.T\n",
        "AT "
      ],
      "execution_count": 5,
      "outputs": [
        {
          "output_type": "execute_result",
          "data": {
            "text/plain": [
              "array([[ 4,  5,  2],\n",
              "       [ 1, -2,  3]])"
            ]
          },
          "metadata": {
            "tags": []
          },
          "execution_count": 5
        }
      ]
    },
    {
      "cell_type": "code",
      "metadata": {
        "colab": {
          "base_uri": "https://localhost:8080/"
        },
        "id": "rACM3lgaPy4R",
        "outputId": "0bbfca0b-49a0-4441-cf92-ac1637739b63"
      },
      "source": [
        "A @ AT"
      ],
      "execution_count": 6,
      "outputs": [
        {
          "output_type": "execute_result",
          "data": {
            "text/plain": [
              "array([[17, 18, 11],\n",
              "       [18, 29,  4],\n",
              "       [11,  4, 13]])"
            ]
          },
          "metadata": {
            "tags": []
          },
          "execution_count": 6
        }
      ]
    },
    {
      "cell_type": "code",
      "metadata": {
        "colab": {
          "base_uri": "https://localhost:8080/"
        },
        "id": "35XtbrpZP4Hq",
        "outputId": "3d298f11-0319-47f4-b91d-8631392102e1"
      },
      "source": [
        "AT @ A"
      ],
      "execution_count": 7,
      "outputs": [
        {
          "output_type": "execute_result",
          "data": {
            "text/plain": [
              "array([[45,  0],\n",
              "       [ 0, 14]])"
            ]
          },
          "metadata": {
            "tags": []
          },
          "execution_count": 7
        }
      ]
    },
    {
      "cell_type": "markdown",
      "metadata": {
        "id": "-e1dLpkEAviy"
      },
      "source": [
        "### Матрицы и матричные операции. Часть 2"
      ]
    },
    {
      "cell_type": "markdown",
      "metadata": {
        "id": "fS1bWMM9Axzx"
      },
      "source": [
        "#### __1.__ Вычислить определитель:"
      ]
    },
    {
      "cell_type": "markdown",
      "metadata": {
        "id": "NE8buWTUBmqw"
      },
      "source": [
        "a)\n",
        "$\\begin{vmatrix}\n",
        "sinx & -cosx\\\\ \n",
        "cosx & sinx\n",
        "\\end{vmatrix}; = sinx* sinx - (-cosx)* cosx = 1$ <br> <br>\n",
        "б)\n",
        "$\\begin{vmatrix}\n",
        "4 & 2 & 3\\\\ \n",
        "0 & 5 & 1\\\\ \n",
        "0 & 0 & 9\n",
        "\\end{vmatrix}; = 4*5*9 = 180$<br><br>\n",
        "   в)\n",
        "$\\begin{vmatrix}\n",
        "1 & 2 & 3\\\\ \n",
        "4 & 5 & 6\\\\ \n",
        "7 & 8 & 9\n",
        "\\end{vmatrix} = 1*(5*9-6*8) - 2 * (4*9 - 6*7) +  3 * (4*8-5*7) = 0 $\n",
        "\n"
      ]
    },
    {
      "cell_type": "code",
      "metadata": {
        "colab": {
          "base_uri": "https://localhost:8080/"
        },
        "id": "ONcyYbrRSK0H",
        "outputId": "def92422-b77c-4ff9-c024-10938b20ee3e"
      },
      "source": [
        "B = np.array([[1, 2, 3], [4, 5, 6], [7, 8, 9]])\n",
        "np.linalg.det(B)"
      ],
      "execution_count": 8,
      "outputs": [
        {
          "output_type": "execute_result",
          "data": {
            "text/plain": [
              "0.0"
            ]
          },
          "metadata": {
            "tags": []
          },
          "execution_count": 8
        }
      ]
    },
    {
      "cell_type": "markdown",
      "metadata": {
        "id": "AKhpP8BrNU84"
      },
      "source": [
        "###__2.__ Определитель матрицы $A$ равен $4$. Найти:\n",
        "\n",
        "   а) $det(A^{2})$;\n",
        "    \n",
        "   б) $det(A^{T})$;\n",
        "    \n",
        "   в) $det(2A)$."
      ]
    },
    {
      "cell_type": "markdown",
      "metadata": {
        "id": "1aXm5OQYN-Ae"
      },
      "source": [
        "а) $det(A^{2})=detA\\cdot detA = 4 \\cdot 4= 16 $ <br>\n",
        "б) $det(A^{T}) = 4$ - так как определитель матрице не зависит будем ли мы раскладывать по сторакам или по столбцам матрицу <br>\n",
        "в) $det(2A)= 2^{m} \\cdot 4$ - так при умножении одной строки на число нужно умножить определитель на этой число, при умножении m строк нужно его умножить m-раз"
      ]
    },
    {
      "cell_type": "markdown",
      "metadata": {
        "id": "-sd-_9BwYhID"
      },
      "source": [
        "__3.__  Доказать, что матрица\n",
        "\n",
        "$$\\begin{pmatrix}\n",
        "-2 & 7 & -3\\\\ \n",
        "4 & -14 & 6\\\\ \n",
        "-3 & 7 & 13\n",
        "\\end{pmatrix}$$\n",
        "   \n",
        "вырожденная.\n"
      ]
    },
    {
      "cell_type": "markdown",
      "metadata": {
        "id": "OCHnNno_dV_X"
      },
      "source": [
        "Первая и вторя строка матрицы линейно зависимы. Если две строки в матрице линейно зависимы, то её определитель равен нули и, следовательно, она является вырожденой."
      ]
    },
    {
      "cell_type": "markdown",
      "metadata": {
        "id": "JkWOOE1EdDj_"
      },
      "source": [
        "##### __4.__ Найти ранг матрицы:\n",
        "\n"
      ]
    },
    {
      "cell_type": "markdown",
      "metadata": {
        "id": "AKrzHgzOagwo"
      },
      "source": [
        "а) $\\begin{vmatrix}\n",
        "1 & 2 & 3\\\\ \n",
        "1 & 1 & 1\\\\ \n",
        "2 & 3 & 4\n",
        "\\end{vmatrix}; = 1*(4-3)-2(4-2)+3(3-2)=0$ <br>\n",
        "Ранг матрици равен 2. <br>\n",
        "б) $\\begin{vmatrix}\n",
        "0 & 0 & 2 & 1\\\\ \n",
        "0 & 0 & 2 & 2\\\\ \n",
        "0 & 0 & 4 & 3\\\\ \n",
        "2 & 3 & 5 & 6\n",
        "\\end{vmatrix} = 0 $ <br> <br>\n",
        "$\\begin{vmatrix}\n",
        "0 & 2 & 2\\\\ \n",
        "0 & 4 & 3\\\\ \n",
        "3 & 5 & 6\n",
        "\\end{vmatrix} = 3*(4*6-3*5)= 27$ <br>\n",
        "Ранг матрици равен 3."
      ]
    },
    {
      "cell_type": "code",
      "metadata": {
        "colab": {
          "base_uri": "https://localhost:8080/"
        },
        "id": "5GxD3zWdNFpi",
        "outputId": "64dddd1b-34d2-4620-a09b-f8023ed97294"
      },
      "source": [
        "A = np.array([[1, 2, 3], [1, 1, 1], [2, 3, 4]])\n",
        "np.linalg.matrix_rank(A)"
      ],
      "execution_count": 9,
      "outputs": [
        {
          "output_type": "execute_result",
          "data": {
            "text/plain": [
              "2"
            ]
          },
          "metadata": {
            "tags": []
          },
          "execution_count": 9
        }
      ]
    },
    {
      "cell_type": "code",
      "metadata": {
        "colab": {
          "base_uri": "https://localhost:8080/"
        },
        "id": "UKXlgr8UrzKq",
        "outputId": "a3a5ab09-5e4c-4243-fad4-015cf9218780"
      },
      "source": [
        "B = np.array([[0, 0, 2, 1], [0, 0, 2, 2], [0, 0, 4, 3], [2, 3, 4, 5]])\n",
        "np.linalg.matrix_rank(B)"
      ],
      "execution_count": 10,
      "outputs": [
        {
          "output_type": "execute_result",
          "data": {
            "text/plain": [
              "3"
            ]
          },
          "metadata": {
            "tags": []
          },
          "execution_count": 10
        }
      ]
    }
  ]
}