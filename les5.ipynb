{
  "nbformat": 4,
  "nbformat_minor": 0,
  "metadata": {
    "colab": {
      "name": "Untitled23.ipynb",
      "provenance": [],
      "collapsed_sections": []
    },
    "kernelspec": {
      "name": "python3",
      "display_name": "Python 3"
    },
    "language_info": {
      "name": "python"
    }
  },
  "cells": [
    {
      "cell_type": "code",
      "metadata": {
        "id": "45nnD6rW_Q0_"
      },
      "source": [
        "import numpy as np"
      ],
      "execution_count": 1,
      "outputs": []
    },
    {
      "cell_type": "markdown",
      "metadata": {
        "id": "Fbv5MtlxA0c1"
      },
      "source": [
        "##Урок 5. Сингулярное разложение матриц"
      ]
    },
    {
      "cell_type": "markdown",
      "metadata": {
        "id": "Y_FD5Iw3BBVP"
      },
      "source": [
        "1. Найти с помощью NumPy SVD для матрицы\n",
        "\n",
        "$$\\begin{pmatrix}\n",
        "1 & 2 & 0\\\\ \n",
        "0 & 0 & 5\\\\ \n",
        "3 & -4 & 2\\\\ \n",
        "1 & 6 & 5\\\\ \n",
        "0 & 1 & 0\n",
        "\\end{pmatrix}.$$"
      ]
    },
    {
      "cell_type": "code",
      "metadata": {
        "colab": {
          "base_uri": "https://localhost:8080/"
        },
        "id": "awnDQT7UA8Le",
        "outputId": "9d9d1504-5e78-48e7-aa42-cf6a13ce1e1a"
      },
      "source": [
        "A = np.array([[1, 2, 0],\n",
        "              [0, 0, 5],\n",
        "              [3, -4, 2],\n",
        "              [1, 6, 5],\n",
        "              [0, 1, 0],])\n",
        "\n",
        "U, s, W = np.linalg.svd(A)\n",
        "V = W.T\n",
        "D = np.zeros_like(A, dtype=float)\n",
        "D[np.diag_indices(min(A.shape))] = s\n",
        "\n",
        "print(f'Матрица U:\\n{U}')\n",
        "print(f'Матрица D:\\n{D}')\n",
        "print(f'Матрица V:\\n{V}')"
      ],
      "execution_count": 3,
      "outputs": [
        {
          "output_type": "stream",
          "text": [
            "Матрица U:\n",
            "[[ 0.17056501  0.15680918 -0.53077508 -0.79905375 -0.16158397]\n",
            " [ 0.39287016 -0.52933945  0.6134793  -0.43375771  0.03082495]\n",
            " [-0.14366152 -0.82449256 -0.52379105  0.14049848  0.07400343]\n",
            " [ 0.88843702  0.06074346 -0.24655277  0.37755832 -0.06042632]\n",
            " [ 0.08125046  0.10831843 -0.08231425 -0.10524851  0.98173958]]\n",
            "Матрица D:\n",
            "[[8.82486885 0.         0.        ]\n",
            " [0.         6.14060608 0.        ]\n",
            " [0.         0.         2.53271528]\n",
            " [0.         0.         0.        ]\n",
            " [0.         0.         0.        ]]\n",
            "Матрица V:\n",
            "[[ 0.07116451 -0.36737824 -0.92734505]\n",
            " [ 0.71702467  0.66514082 -0.20847855]\n",
            " [ 0.69340553 -0.65009301  0.31075368]]\n"
          ],
          "name": "stdout"
        }
      ]
    },
    {
      "cell_type": "markdown",
      "metadata": {
        "id": "iUboFnxeDldF"
      },
      "source": [
        "2. Для матрицы из предыдущего задания найти:\n",
        "\n",
        "    а) евклидову норму;\n",
        "    \n",
        "    б) норму Фробениуса."
      ]
    },
    {
      "cell_type": "code",
      "metadata": {
        "colab": {
          "base_uri": "https://localhost:8080/"
        },
        "id": "sPrUVAsKC481",
        "outputId": "5134ff3f-ecdb-48e8-e372-ca3d8c3c836c"
      },
      "source": [
        "print(f'Евклидова норма: {np.linalg.norm(A, ord=2)}')\n",
        "print(f'Норма Фробениуса: {np.linalg.norm(A)}')"
      ],
      "execution_count": 8,
      "outputs": [
        {
          "output_type": "stream",
          "text": [
            "Евклидова норма: 8.824868854820444\n",
            "Норма Фробениуса: 11.045361017187261\n"
          ],
          "name": "stdout"
        }
      ]
    },
    {
      "cell_type": "code",
      "metadata": {
        "id": "gvptyHjtE1Du"
      },
      "source": [
        ""
      ],
      "execution_count": null,
      "outputs": []
    }
  ]
}