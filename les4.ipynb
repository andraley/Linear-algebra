{
  "nbformat": 4,
  "nbformat_minor": 0,
  "metadata": {
    "colab": {
      "name": "Untitled22.ipynb",
      "provenance": [],
      "collapsed_sections": []
    },
    "kernelspec": {
      "name": "python3",
      "display_name": "Python 3"
    },
    "language_info": {
      "name": "python"
    }
  },
  "cells": [
    {
      "cell_type": "code",
      "metadata": {
        "id": "-yE0UietrqJw"
      },
      "source": [
        "import numpy as np"
      ],
      "execution_count": 2,
      "outputs": []
    },
    {
      "cell_type": "markdown",
      "metadata": {
        "id": "TRVMBDImsxdw"
      },
      "source": [
        "##Урок 4. Системы линейных уравнений"
      ]
    },
    {
      "cell_type": "markdown",
      "metadata": {
        "id": "tdH93uu8s1pP"
      },
      "source": [
        "###Системы линейных уравнений. Часть 1"
      ]
    },
    {
      "cell_type": "markdown",
      "metadata": {
        "id": "QaDXyxfys6go"
      },
      "source": [
        "####__1.__ Решить систему уравнений методом Гаусса:\n",
        "\n",
        "$$\\begin{cases}\n",
        "x_{1}+x_{2}-x_{3}-2x_{4}=0, \\\\\n",
        "2x_{1}+x_{2}-x_{3}+x_{4}=-2, \\\\\n",
        "x_{1}+x_{2}-3x_{3}+x_{4}=4.\n",
        "\\end{cases}$$"
      ]
    },
    {
      "cell_type": "markdown",
      "metadata": {
        "id": "KRWob6jPtfOG"
      },
      "source": [
        "$$\\begin{pmatrix}\n",
        "\\left.\\begin{matrix}\n",
        "1 & 1 & -1 & -2\\\\ \n",
        "2 & 1 & -1 & 1 \\\\ \n",
        "1 & 1 & -3 & 1\n",
        "\\end{matrix}\\right|\n",
        "\\begin{matrix}\n",
        "0\\\\ \n",
        "-2\\\\\n",
        "4\n",
        "\\end{matrix}\n",
        "\\end{pmatrix}.$$<br>\n",
        "\n",
        "$$\\begin{pmatrix}\n",
        "\\left.\\begin{matrix}\n",
        "1 & 1 & -1 & -2\\\\ \n",
        "0 & -1 & -3 & 5 \\\\ \n",
        "0 & 0 & -4 & 3\n",
        "\\end{matrix}\\right| \n",
        "\\begin{matrix}\n",
        "0\\\\ \n",
        "-2\\\\\n",
        "4\n",
        "\\end{matrix}\n",
        "\\end{pmatrix}.$$ <br>\n",
        "\n",
        "$$x_{4}=c,$$\n",
        "$$-4x_{3}+3c=4 \\; \\Leftrightarrow \\; x_{3}=(3c-4)/4,$$\n",
        "$$x_{2} -3*(3c-4)/4 - 5c=-2 \\; \\Leftrightarrow \\; x_{2}=29c/4-5.$$\n",
        "$$x_{1} + 29c/4-5 - (3c-4)/4 - 2c=0 \\; \\Leftrightarrow \\; x_{1}= 4-18c/4.$$"
      ]
    },
    {
      "cell_type": "markdown",
      "metadata": {
        "id": "Tqn-fmUOy72g"
      },
      "source": [
        "####__2.__ Проверить на совместность и выяснить, сколько решений будет иметь система линейных уравнений:"
      ]
    },
    {
      "cell_type": "markdown",
      "metadata": {
        "id": "TLiLGcgGzJQB"
      },
      "source": [
        "а) $\\begin{cases}\n",
        "3x_{1}-x_{2}+x_{3}=4, \\\\\n",
        "2x_{1}-5x_{2}-3x_{3}=-17, \\\\\n",
        "x_{1}+x_{2}-x_{3}=0;\n",
        "\\end{cases}$ <br>\n",
        "\n",
        "$\\begin{pmatrix}\n",
        "\\left.\\begin{matrix}\n",
        "3 & -1 & 1 \\\\ \n",
        "2 & -5 & -3  \\\\ \n",
        "1 & 1 & -1 \n",
        "\\end{matrix}\\right|\n",
        "\\begin{matrix}\n",
        "4\\\\ \n",
        "-17\\\\\n",
        "0\n",
        "\\end{matrix}\n",
        "\\end{pmatrix}$<br>\n",
        "\n",
        "$\\begin{pmatrix}\n",
        "\\left.\\begin{matrix}\n",
        "1 & 1 & -1  \\\\ \n",
        "0 & -7 & -1  \\\\ \n",
        "0 & -4 & 4 \n",
        "\\end{matrix}\\right|\n",
        "\\begin{matrix}\n",
        "0\\\\ \n",
        "-17\\\\\n",
        "4\n",
        "\\end{matrix}\n",
        "\\end{pmatrix}$<br>\n",
        "\n",
        "$\\begin{pmatrix}\n",
        "\\left.\\begin{matrix}\n",
        "1 & 1 & -1  \\\\ \n",
        "0 & -7 & -1  \\\\ \n",
        "0 & 0 & 32/7 \n",
        "\\end{matrix}\\right|\n",
        "\\begin{matrix}\n",
        "0\\\\ \n",
        "-17\\\\\n",
        "147/7\n",
        "\\end{matrix}\n",
        "\\end{pmatrix}$<br>\n",
        "$rankA=rank \\tilde A=n$ - система совместна и  имеет единственное решение"
      ]
    },
    {
      "cell_type": "markdown",
      "metadata": {
        "id": "R-uifzlN4ECO"
      },
      "source": [
        "б) $\\begin{cases}\n",
        "2x_{1}-4x_{2}+6x_{3}=1, \\\\\n",
        "x_{1}-2x_{2}+3x_{3}=-2, \\\\\n",
        "3x_{1}-6x_{2}+9x_{3}=5;\n",
        "\\end{cases}$\n",
        "\n",
        "$\\begin{pmatrix}\n",
        "\\left.\\begin{matrix}\n",
        "2 & -4 & 6 \\\\ \n",
        "1 & -2 & 3  \\\\ \n",
        "3 & -6 & 9 \n",
        "\\end{matrix}\\right|\n",
        "\\begin{matrix}\n",
        "1\\\\ \n",
        "-2\\\\\n",
        "5\n",
        "\\end{matrix}\n",
        "\\end{pmatrix}$<br>\n",
        "\n",
        "$\\begin{pmatrix}\n",
        "\\left.\\begin{matrix}\n",
        "1 & -2 & 3  \\\\ \n",
        "2 & -4 & 6 \\\\ \n",
        "3 & -6 & 9 \n",
        "\\end{matrix}\\right|\n",
        "\\begin{matrix}\n",
        "-2\\\\ \n",
        "1\\\\\n",
        "5\n",
        "\\end{matrix}\n",
        "\\end{pmatrix}$<br>\n",
        "\n",
        "$\\begin{pmatrix}\n",
        "\\left.\\begin{matrix}\n",
        "1 & -2 & 3  \\\\ \n",
        "0 & 0 & 0 \\\\ \n",
        "0 & 0 & 0 \n",
        "\\end{matrix}\\right|\n",
        "\\begin{matrix}\n",
        "-2\\\\ \n",
        "5\\\\\n",
        "11\n",
        "\\end{matrix}\n",
        "\\end{pmatrix}$<br>\n",
        "$rankA<rank \\tilde A$ - система несовместна, решений нет\n"
      ]
    },
    {
      "cell_type": "markdown",
      "metadata": {
        "id": "vaKhLnJF5r1u"
      },
      "source": [
        "в) $\\begin{cases}\n",
        "x_{1}+2x_{2}+5x_{3}=4, \\\\\n",
        "3x_{1}+x_{2}-8x_{3}=-2. \n",
        "\\end{cases}$\n",
        "\n",
        "$\\begin{pmatrix}\n",
        "\\left.\\begin{matrix}\n",
        "1 & 2 & 5 \\\\ \n",
        "3 & 1 & -8  \n",
        "\\end{matrix}\\right|\n",
        "\\begin{matrix}\n",
        "4\\\\ \n",
        "-2\n",
        "\\end{matrix}\n",
        "\\end{pmatrix}$<br>\n",
        "\n",
        "$rankA=rank \\tilde A<n$ - то система совместна и имеет бесконечное количество решений;"
      ]
    },
    {
      "cell_type": "markdown",
      "metadata": {
        "id": "p2xovj386oOe"
      },
      "source": [
        "####__3.__ Проверить на совместность и выяснить, сколько решений будет иметь система линейных уравнений, заданная расширенной матрицей\n",
        "\n",
        "$$\\tilde{A}=\\begin{pmatrix}\n",
        "\\left.\\begin{matrix}\n",
        "1 & 3 & -2 & 4\\\\ \n",
        "0 & 5 & 0 & 1\\\\ \n",
        "0 & 0 & 3 & 0\\\\ \n",
        "0 & 0 & 0 & 2\n",
        "\\end{matrix}\\right|\n",
        "\\begin{matrix}\n",
        "3\\\\ \n",
        "2\\\\\n",
        "4\\\\\n",
        "1\n",
        "\\end{matrix}\n",
        "\\end{pmatrix}.$$\n",
        "$rankA=rank \\tilde A=n$ - система совместна и  имеет единственное решение"
      ]
    },
    {
      "cell_type": "markdown",
      "metadata": {
        "id": "kwQBYxet7fGY"
      },
      "source": [
        "####__4.__ Дана система линейных уравнений, заданная расширенной матрицей\n",
        "\n",
        "$$\\tilde{A}=\\begin{pmatrix}\n",
        "\\left.\\begin{matrix}\n",
        "1 & 2 & 3\\\\ \n",
        "4 & 5 & 6\\\\ \n",
        "7 & 8 & 9\n",
        "\\end{matrix}\\right|\n",
        "\\begin{matrix}\n",
        "a\\\\ \n",
        "b\\\\\n",
        "c\n",
        "\\end{matrix}\n",
        "\\end{pmatrix}.$$\n",
        "\n",
        "Найти соотношение между параметрами $a$, $b$ и $c$, при которых система является несовместной."
      ]
    },
    {
      "cell_type": "code",
      "metadata": {
        "colab": {
          "base_uri": "https://localhost:8080/"
        },
        "id": "DVEUD1hly5z9",
        "outputId": "a994330a-cf06-492d-b8b7-fb49555c09cb"
      },
      "source": [
        "A = np.array([[1, 2, 3], [4, 5, 6], [7, 8, 9]])\n",
        "np.linalg.matrix_rank(A)"
      ],
      "execution_count": 3,
      "outputs": [
        {
          "output_type": "execute_result",
          "data": {
            "text/plain": [
              "2"
            ]
          },
          "metadata": {
            "tags": []
          },
          "execution_count": 3
        }
      ]
    },
    {
      "cell_type": "markdown",
      "metadata": {
        "id": "oB5RfRD4-u0u"
      },
      "source": [
        "$$\\begin{vmatrix}\n",
        "2 & 3 & a\\\\ \n",
        "5 & 6 & b\\\\ \n",
        "8 & 9 & c\n",
        "\\end{vmatrix}\\neq0$$\n",
        "$$\\begin{vmatrix}\n",
        "2 & 3 & a\\\\ \n",
        "5 & 6 & b\\\\ \n",
        "8 & 9 & c\n",
        "\\end{vmatrix}=\n",
        "a\\cdot\\begin{vmatrix}\n",
        "5 & 6\\\\ \n",
        "8 & 9\n",
        "\\end{vmatrix}-\n",
        "b\\cdot\\begin{vmatrix}\n",
        "2 & 3\\\\ \n",
        "8 & 9\n",
        "\\end{vmatrix}+\n",
        "c\\cdot\\begin{vmatrix}\n",
        "2 & 3\\\\ \n",
        "5 & 6\n",
        "\\end{vmatrix}=a\\cdot(5\\cdot9-6\\cdot8)-b\\cdot(2\\cdot9-3\\cdot8)+c\\cdot(2\\cdot6-3\\cdot5)=-3a+6b-3c.\n",
        "$$"
      ]
    },
    {
      "cell_type": "markdown",
      "metadata": {
        "id": "s8IjKZcCDDMn"
      },
      "source": [
        "При $2b-a-c\\neq0$ система будет несовместной"
      ]
    },
    {
      "cell_type": "markdown",
      "metadata": {
        "id": "ojbWG5bdGx-B"
      },
      "source": [
        "###Системы линейных уравнений. Часть 2"
      ]
    },
    {
      "cell_type": "markdown",
      "metadata": {
        "id": "uMOYCObcG0i8"
      },
      "source": [
        "####__1.__ Решить систему уравнений методом Крамера:"
      ]
    },
    {
      "cell_type": "markdown",
      "metadata": {
        "id": "3cmWP67uHBHI"
      },
      "source": [
        "а) $\\begin{cases}\n",
        "x_{1}-2x_{2}=1 \\\\\n",
        "3x_{1}-4x_{2}=7\n",
        "\\end{cases}$\n",
        "\n",
        "$\\begin{vmatrix}\n",
        "1 & -2 \\\\ \n",
        "3 & -4 \n",
        "\\end{vmatrix}\n",
        "=1 \\cdot (-4)+2\\cdot 3=2$ <br>\n",
        "$\\begin{vmatrix}\n",
        "1 & -2 \\\\ \n",
        "7 & -4 \n",
        "\\end{vmatrix}\n",
        "=1 \\cdot (-4)+2\\cdot 7=10$ <br>\n",
        "$\\begin{vmatrix}\n",
        "1 & 1 \\\\ \n",
        "3 & 7 \n",
        "\\end{vmatrix}\n",
        "=1 \\cdot 7-1\\cdot 3=4$\n",
        "\n",
        "$x_{1} = \\frac{10}{2}=5$\n",
        "\n",
        "$x_{2} = \\frac{4}{2}=2$\n",
        "\n"
      ]
    },
    {
      "cell_type": "markdown",
      "metadata": {
        "id": "07HWsQ7CGOUi"
      },
      "source": [
        "б) $\\begin{cases}\n",
        "2x_{1}-x_{2}+5x_{3}=10 \\\\\n",
        "x_{1}+x_{2}-3x_{3}=-2 \\\\\n",
        "2x_{1}+4x_{2}+x_{3}=1\n",
        "\\end{cases}$"
      ]
    },
    {
      "cell_type": "code",
      "metadata": {
        "colab": {
          "base_uri": "https://localhost:8080/"
        },
        "id": "PSWxkNW5GPJb",
        "outputId": "a7518fd2-a544-445b-8138-3f35d17c0d79"
      },
      "source": [
        "B = np.array([[2, -1, 5], [1, 1, -3], [2, 4, 1]])\n",
        "np.linalg.det(B)"
      ],
      "execution_count": 4,
      "outputs": [
        {
          "output_type": "execute_result",
          "data": {
            "text/plain": [
              "42.99999999999998"
            ]
          },
          "metadata": {
            "tags": []
          },
          "execution_count": 4
        }
      ]
    },
    {
      "cell_type": "code",
      "metadata": {
        "colab": {
          "base_uri": "https://localhost:8080/"
        },
        "id": "eQ3pk823H2pX",
        "outputId": "8aa1a727-8f60-43ba-a0d2-bf76f2ce1d75"
      },
      "source": [
        "B1 = np.array([[10, -1, 5], [-2, 1, -3], [1, 4, 1]])\n",
        "np.linalg.det(B1)"
      ],
      "execution_count": 6,
      "outputs": [
        {
          "output_type": "execute_result",
          "data": {
            "text/plain": [
              "86.00000000000004"
            ]
          },
          "metadata": {
            "tags": []
          },
          "execution_count": 6
        }
      ]
    },
    {
      "cell_type": "code",
      "metadata": {
        "colab": {
          "base_uri": "https://localhost:8080/"
        },
        "id": "k4ITvcfHCXSl",
        "outputId": "aaa35a5b-01bb-4ab8-ca60-50ad1fd6149b"
      },
      "source": [
        "B2 = np.array([[2, 10, 5], [1, -2, -3], [2, 1, 1]])\n",
        "np.linalg.det(B2)"
      ],
      "execution_count": 7,
      "outputs": [
        {
          "output_type": "execute_result",
          "data": {
            "text/plain": [
              "-43.000000000000014"
            ]
          },
          "metadata": {
            "tags": []
          },
          "execution_count": 7
        }
      ]
    },
    {
      "cell_type": "code",
      "metadata": {
        "colab": {
          "base_uri": "https://localhost:8080/"
        },
        "id": "4Kk0vonuIXim",
        "outputId": "2bd2ff65-7fbc-4440-adb2-9ce424631083"
      },
      "source": [
        "B3 = np.array([[2, -1, 10], [1, 1, -2], [2, 4, 1]])\n",
        "np.linalg.det(B3)"
      ],
      "execution_count": 8,
      "outputs": [
        {
          "output_type": "execute_result",
          "data": {
            "text/plain": [
              "42.99999999999998"
            ]
          },
          "metadata": {
            "tags": []
          },
          "execution_count": 8
        }
      ]
    },
    {
      "cell_type": "markdown",
      "metadata": {
        "id": "Creq-_XkI7xq"
      },
      "source": [
        "$x_{1} = \\frac{86}{43}=2$\n",
        "\n",
        "$x_{2} = \\frac{-43}{43}=-1$\n",
        "\n",
        "$x_{3} = \\frac{43}{43}=1$"
      ]
    },
    {
      "cell_type": "markdown",
      "metadata": {
        "id": "ZR5bhKKOJR5o"
      },
      "source": [
        "####__2*.__ Найти $L$-матрицу $LU$-разложения для матрицы коэффициентов:"
      ]
    },
    {
      "cell_type": "markdown",
      "metadata": {
        "id": "GFBiz7krJbD6"
      },
      "source": [
        "а)$\\begin{pmatrix}\n",
        "1 & 2 & 4 \\\\ \n",
        "2 & 9 & 12 \\\\ \n",
        "3 & 26 & 30\n",
        "\\end{pmatrix}$\n",
        "\n",
        "$L=\\begin{pmatrix}\n",
        "1 & 0 & 0 \\\\ \n",
        "2 & 1 & 0 \\\\ \n",
        "3 & 4 & 1\n",
        "\\end{pmatrix}$\n",
        "\n"
      ]
    },
    {
      "cell_type": "markdown",
      "metadata": {
        "id": "SklBbIg7YuOR"
      },
      "source": [
        "б)$\\begin{pmatrix}\n",
        "1 & 1 & 2 & 4\\\\ \n",
        "2 & 5 & 8 & 9\\\\ \n",
        "3 & 18 & 29 & 18\\\\\n",
        "4 & 22 & 53 & 33\n",
        "\\end{pmatrix}$\n",
        "\n",
        "$L=\\begin{pmatrix}\n",
        "1 & 0 & 0 & 0\\\\ \n",
        "2 & 1 & 0 & 0\\\\ \n",
        "3 & 5 & 1 & 0\\\\\n",
        "4 & 6 & 7 & 1\n",
        "\\end{pmatrix}$\n",
        "\n"
      ]
    },
    {
      "cell_type": "markdown",
      "metadata": {
        "id": "UDCjGhwKavCf"
      },
      "source": [
        "####__3*.__ Решить систему линейных уравнений методом $LU$-разложения\n",
        "\n",
        "$\\begin{cases}\n",
        "2x_{1}+x_{2}+3x_{3}=1 \\\\\n",
        "11x_{1}+7x_{2}+5x_{3}=-6 \\\\\n",
        "9x_{1}+8x_{2}+4x_{3}=-5\n",
        "\\end{cases}$\n",
        "\n",
        "$\\begin{pmatrix}\n",
        "2 & 1 & 3 \\\\ \n",
        "11 & 7 & 5 \\\\ \n",
        "9 & 8 & 4\n",
        "\\end{pmatrix}$\n",
        "\n",
        "$U=\\begin{pmatrix}\n",
        "2 & 1 & 3 \\\\ \n",
        "0 & 1.5 & -11.5 \\\\ \n",
        "0 & 0 & 17.33\n",
        "\\end{pmatrix}$\n",
        "\n",
        "$L=\\begin{pmatrix}\n",
        "1 & 0 & 0 \\\\ \n",
        "5.5 & 1 & 0 \\\\ \n",
        "4.5 & 2.33 & 1\n",
        "\\end{pmatrix}$\n",
        "\n",
        "$\\begin{cases}\n",
        "y_{1}=1, \\\\\n",
        "5.5y_{1}+y_{2}=-6, \\\\\n",
        "4.5y_{1}+2.33y_{2}+y_{3}=-5.\n",
        "\\end{cases}$\n",
        "\n",
        "$y_{1}=1$\n",
        "\n",
        "$y_{2}=-11.5,$\n",
        "\n",
        "$y_{3}=-5-4.5+161/6=52/3$\n",
        "\n",
        "$\\begin{cases}\n",
        "2x_{1}+x_{2}-x_{3}=5, \\\\\n",
        "1.5x_{2}-11.5x_{3}=-11.5, \\\\\n",
        "17.33x_{3}=52/3.\n",
        "\\end{cases}$\n",
        "\n",
        "$x_{3}=1$\n",
        "\n",
        "$x_{2}=0$\n",
        "\n",
        "$x_{1}=3$\n"
      ]
    },
    {
      "cell_type": "markdown",
      "metadata": {
        "id": "xG07OpQgtCi4"
      },
      "source": [
        "####__4*.__ Решить систему линейных уравнений методом Холецкого\n",
        "\n",
        "$$\\begin{cases}\n",
        "81x_{1}-45x_{2}+45x_{3}=531 \\\\\n",
        "-45x_{1}+50x_{2}-15x_{3}=-460 \\\\\n",
        "45x_{1}-15x_{2}+38x_{3}=193\n",
        "\\end{cases}$$\n"
      ]
    },
    {
      "cell_type": "markdown",
      "metadata": {
        "id": "kxteJ0KLyu8o"
      },
      "source": [
        "$$l_{11}=\\sqrt{a_{11}}=9$$\n",
        "$$l_{21}=\\frac{a_{21}}{l_{11}}=-5$$\n",
        "$$l_{31}=\\frac{a_{31}}{l_{11}}=5$$\n",
        "\n",
        "$$l_{22}=\\sqrt{a_{22}-l_{21}^{2}}=\\sqrt{50 - 25}=5$$\n",
        "$$l_{32}=\\frac{1}{l_{22}}\\left ( a_{32}-l_{21}l_{31} \\right)=\\frac{1}{5}\\left ( -15 -(-5)\\cdot 5 \\right )=2$$\n",
        "\n",
        "$$l_{33}=\\sqrt{a_{33}-l_{31}^{2}-l_{32}^{2}}=\\sqrt{38-25-4}=3.$$\n",
        "$$L = \\begin{pmatrix}\n",
        "9 & 0 & 0 \\\\ \n",
        "-5 & 5 & 0 \\\\ \n",
        "5 & 2 & 3\n",
        "\\end{pmatrix}, \n",
        "\\; \\; \n",
        "L^{T} = \\begin{pmatrix}\n",
        "9 & -5 & 5 \\\\ \n",
        "0 & 5 & 2 \\\\ \n",
        "0 & 0 & 3\n",
        "\\end{pmatrix}$$\n",
        "\n",
        "$$\\begin{cases}\n",
        "9y_{1}=531 \\\\\n",
        "-5y_{1}+5y_{2}=-460 \\\\\n",
        "5y_{1}+2y_{2}+3y_{3}=193\n",
        "\\end{cases}$$\n",
        "\n",
        "$$y_{1} = 59$$\n",
        "\n",
        "$$y_{2}= -33$$\n",
        "\n",
        "$$y_{3}= -12$$\n",
        "\n",
        "$$\\begin{cases}\n",
        "9x_{1}-5x_{2}+5x_{3}=59 \\\\\n",
        "5x_{2}+2x_{3}=-33 \\\\\n",
        "3x_{3}= -12.\n",
        "\\end{cases}$$\n",
        "\n",
        "$$x_{3}= -4$$\n",
        "\n",
        "$$x_{2}=-5$$\n",
        "\n",
        "$$x_{1}=6$$\n",
        "\n"
      ]
    },
    {
      "cell_type": "code",
      "metadata": {
        "id": "Hv_lM3T1hjgQ"
      },
      "source": [
        ""
      ],
      "execution_count": null,
      "outputs": []
    }
  ]
}