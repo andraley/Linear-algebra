{
  "nbformat": 4,
  "nbformat_minor": 0,
  "metadata": {
    "colab": {
      "name": "Untitled21.ipynb",
      "provenance": [],
      "collapsed_sections": []
    },
    "kernelspec": {
      "name": "python3",
      "display_name": "Python 3"
    },
    "language_info": {
      "name": "python"
    }
  },
  "cells": [
    {
      "cell_type": "code",
      "metadata": {
        "id": "xt3W3tsT93d-"
      },
      "source": [
        "import numpy as np"
      ],
      "execution_count": 1,
      "outputs": []
    },
    {
      "cell_type": "markdown",
      "metadata": {
        "id": "s-zU5gmu-Hm-"
      },
      "source": [
        "## Урок 3. Линейные преобразования"
      ]
    },
    {
      "cell_type": "markdown",
      "metadata": {
        "id": "GkeIcjLA-NEi"
      },
      "source": [
        "### __1.__ Найти собственные векторы и собственные значения для линейного оператора, заданного матрицей\n",
        "\n",
        "$$A=\\begin{pmatrix}\n",
        "-1 & -6\\\\ \n",
        "2 & 6\n",
        "\\end{pmatrix}.$$\n"
      ]
    },
    {
      "cell_type": "markdown",
      "metadata": {
        "id": "A0kDS0Mh-X-p"
      },
      "source": [
        "$$\\begin{vmatrix}\n",
        "-1-\\lambda & -6\\\\ \n",
        "2 & 6-\\lambda\n",
        "\\end{vmatrix}= 0$$\n",
        "$$(-1-\\lambda)(6-\\lambda)+12=0 $$\n",
        "$$\\lambda^{2}-5\\lambda+6=0$$\n",
        "$$\\lambda_{1}=2, \\lambda_{2}=3$$\n",
        "$$\\begin{cases}\n",
        "-x_{1}-6x_{2}=2x_{1}, \\\\\n",
        "2x_{1}+6x_{2}=2 x_{2}.\n",
        "\\end{cases}$$ \n",
        "$$\\begin{cases}\n",
        "-x_{1}=2x_{2}, \\\\\n",
        "x_{1}=-2x_{2}.\n",
        "\\end{cases}$$ \n",
        "$$\\begin{cases}\n",
        "-x_{1}-6x_{2}=3x_{1}, \\\\\n",
        "2x_{1}+6x_{2}=3 x_{2}.\n",
        "\\end{cases}$$ \n",
        "$$\\begin{cases}\n",
        "-x_{1}=2/3x_{2}, \\\\\n",
        "x_{1}=-2/3x_{2}.\n",
        "\\end{cases}$$ \n",
        "Поучается множество собственных вектором вида вида $\\begin{pmatrix}\n",
        "x\\\\ \n",
        "-2x\n",
        "\\end{pmatrix}$ и $\\begin{pmatrix}\n",
        "x\\\\ \n",
        "-2/3x\n",
        "\\end{pmatrix}$ "
      ]
    },
    {
      "cell_type": "code",
      "metadata": {
        "colab": {
          "base_uri": "https://localhost:8080/"
        },
        "id": "9ZQv9rvL-Mc-",
        "outputId": "e0b66d23-a665-4a1e-a728-5d824976faab"
      },
      "source": [
        "a = np.array([[-1, -6], [2, 6]])\n",
        "w, v = np.linalg.eig(a)\n",
        "\n",
        "print(f'Матрица A:\\n{a}')\n",
        "print(f'Собственные значения:\\n{w}')\n",
        "print(f'Собственные векторы:\\n{v}')"
      ],
      "execution_count": 2,
      "outputs": [
        {
          "output_type": "stream",
          "text": [
            "Матрица A:\n",
            "[[-1 -6]\n",
            " [ 2  6]]\n",
            "Собственные значения:\n",
            "[2. 3.]\n",
            "Собственные векторы:\n",
            "[[-0.89442719  0.83205029]\n",
            " [ 0.4472136  -0.5547002 ]]\n"
          ],
          "name": "stdout"
        }
      ]
    },
    {
      "cell_type": "markdown",
      "metadata": {
        "id": "aTXmbDUFME_M"
      },
      "source": [
        "__2.__ Дан оператор поворота на 180 градусов, задаваемый матрицей \n",
        "\n",
        "$$A=\\begin{pmatrix}\n",
        "-1 & 0\\\\ \n",
        "0 & -1\n",
        "\\end{pmatrix}.$$\n",
        "\n",
        "Показать, что __любой__ вектор является для него собственным."
      ]
    },
    {
      "cell_type": "markdown",
      "metadata": {
        "id": "skPf1OzOM8_c"
      },
      "source": [
        "$$\\begin{vmatrix}\n",
        "-1-\\lambda & 0\\\\ \n",
        "0 & -1-\\lambda\n",
        "\\end{vmatrix} = 0$$\n",
        "$$(-1-\\lambda)(-1-\\lambda)=0$$\n",
        "$$\\lambda=-1$$\n",
        "$$\\begin{cases}\n",
        "-x_{1}=-x_{1}, \\\\\n",
        "-x_{2}= -x_{2}.\n",
        "\\end{cases}$$ \n",
        "Любой вектор для данного оператора будет собственым"
      ]
    },
    {
      "cell_type": "markdown",
      "metadata": {
        "id": "COFSirTSQkUZ"
      },
      "source": [
        "__3.__ Пусть линейный оператор задан матрицей\n",
        "\n",
        "$$A=\\begin{pmatrix}\n",
        "1 & 1\\\\ \n",
        "-1 & 3\n",
        "\\end{pmatrix}.$$\n",
        "\n",
        "Установить, является ли вектор $x=(1,1)$ собственным вектором этого линейного оператора."
      ]
    },
    {
      "cell_type": "markdown",
      "metadata": {
        "id": "4YrzNQLESG4h"
      },
      "source": [
        "$$\\begin{pmatrix}\n",
        "1 & 1\\\\ \n",
        "-1 & 3\n",
        "\\end{pmatrix}\n",
        "\\begin{pmatrix}\n",
        "1\\\\ \n",
        "1 \n",
        "\\end{pmatrix}=\n",
        "\\lambda\n",
        "\\begin{pmatrix}\n",
        "1\\\\ \n",
        "1\n",
        "\\end{pmatrix}.\n",
        "$$\n",
        "$$\\begin{cases}\n",
        "1+1=1\\cdot\\lambda \\\\ \n",
        "-1+3 = 1\\cdot \\lambda\n",
        "\\end{cases}\n",
        "\\Rightarrow\n",
        "\\begin{cases}\n",
        "\\lambda=2\\\\ \n",
        "\\lambda=2\n",
        "\\end{cases}.$$\n",
        "Вектор является собственным для данного оператора"
      ]
    },
    {
      "cell_type": "markdown",
      "metadata": {
        "id": "qqQR5s--Ub9Y"
      },
      "source": [
        "__4.__ Пусть линейный оператор задан матрицей\n",
        "\n",
        "$$A=\\begin{pmatrix}\n",
        "0 & 3 & 0\\\\ \n",
        "3 & 0 & 0\\\\\n",
        "0 & 0 & 3\n",
        "\\end{pmatrix}.$$\n",
        "\n",
        "Установить, является ли вектор $x=(3, -3, -4)$ собственным вектором этого линейного оператора."
      ]
    },
    {
      "cell_type": "markdown",
      "metadata": {
        "id": "B0bLFr_vUzrv"
      },
      "source": [
        "$$\\begin{pmatrix}\n",
        "0 & 3 & 0\\\\ \n",
        "3 & 0 & 0\\\\\n",
        "0 & 0 & 3\n",
        "\\end{pmatrix}\n",
        "\\begin{pmatrix}\n",
        "3\\\\\n",
        "-3\\\\\n",
        "-4\n",
        "\\end{pmatrix}=\n",
        "\\lambda\n",
        "\\begin{pmatrix}\n",
        "3\\\\\n",
        "-3\\\\\n",
        "-4\n",
        "\\end{pmatrix}\n",
        "$$\n",
        "\n",
        "$$\\Rightarrow\n",
        "\\begin{cases}\n",
        "-9=3\\lambda\\\\ \n",
        "9=-3\\lambda\\\\\n",
        "-12=-4\\lambda\n",
        "\\end{cases}\n",
        "\\Rightarrow\n",
        "\\begin{cases}\n",
        "\\lambda=-3\\\\ \n",
        "\\lambda=-3\\\\\n",
        "\\lambda=3\n",
        "\\end{cases}$$\n",
        "Вектор не является собственным для данного оператора"
      ]
    },
    {
      "cell_type": "code",
      "metadata": {
        "id": "bX-bw0e3JvZv"
      },
      "source": [
        ""
      ],
      "execution_count": null,
      "outputs": []
    }
  ]
}